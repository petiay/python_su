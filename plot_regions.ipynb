{
 "cells": [
  {
   "cell_type": "code",
   "execution_count": 1,
   "id": "c02d3132-94aa-4762-8c91-0e603123d18e",
   "metadata": {},
   "outputs": [],
   "source": [
    "import matplotlib.pyplot as plt\n",
    "import numpy as np\n",
    "from astropy.io import fits\n",
    "import pyregion\n",
    "from astropy.wcs import WCS"
   ]
  },
  {
   "cell_type": "code",
   "execution_count": 5,
   "id": "c3cd794a-620a-4021-8d31-cc71b67efd15",
   "metadata": {
    "tags": []
   },
   "outputs": [],
   "source": [
    "data_id='sigd'\n",
    "if data_id=='sigd':\n",
    "    ext=4\n",
    "elif data_id=='qpah':\n",
    "    ext=2\n",
    "elif data_id=='umin':\n",
    "    ext=1\n",
    "img_lmc = fits.open(\"data/lmc_dl07_fixedbeta_06sep18_dust_param_realizations_2.fits\", ignore_blank=True)[ext]\n",
    "img_smc = fits.open(\"data/smc_dl07_fixedbeta_06sep18_dust_param_realizations_2.fits\", ignore_blank=True)[ext]\n",
    "\n",
    "regfile_lmc = \"data/scylla_LMC_all_regions.reg\"\n",
    "regfile_smc = \"data/scylla_SMC_all_regions.reg\""
   ]
  },
  {
   "cell_type": "code",
   "execution_count": 20,
   "id": "4e24d197-e6d4-4320-b514-5554e1c5cef7",
   "metadata": {
    "tags": []
   },
   "outputs": [],
   "source": [
    "hdr_lmc = img_lmc.header\n",
    "hdr_smc = img_smc.header \n",
    "data_sd_lmc = img_lmc.data\n",
    "data_sd_smc = img_smc.data\n",
    "#print(hdr_lmc)"
   ]
  },
  {
   "cell_type": "markdown",
   "id": "543e5726-bcae-4b01-834c-0a83a27197e6",
   "metadata": {
    "jp-MarkdownHeadingCollapsed": true
   },
   "source": [
    "### Plot Regions"
   ]
  },
  {
   "cell_type": "code",
   "execution_count": 15,
   "id": "8dcc5c3f-2655-4c74-8dd8-2e4af69ab23d",
   "metadata": {},
   "outputs": [],
   "source": [
    "def plot_region(regfile, hdr, ax):\n",
    "    \"\"\"\n",
    "    Plot region from a DS9 region file.\n",
    "\n",
    "    Parameters\n",
    "    ----------\n",
    "    regfile:    string\n",
    "                Path to and region file\n",
    "    hdu:        Header Data Unit\n",
    "                The HDU of the map/data on top of which the region is plotted.\n",
    "    ax:         matplotlib axis object\n",
    "                The axis of the plot\n",
    "\n",
    "    Returns\n",
    "    -------\n",
    "    \"\"\"\n",
    "\n",
    "    r = pyregion.open(regfile).as_imagecoord(header=hdr)\n",
    "    r1 = pyregion.ShapeList([rr for rr in r if rr.attr[1].get(\"tag\") == \"Group 1\"])\n",
    "    patch_list1, artist_list1 = r1.get_mpl_patches_texts(fixed_color)\n",
    "    r2 = pyregion.ShapeList([rr for rr in r if rr.attr[1].get(\"tag\") != \"Group 1\"])\n",
    "    patch_list2, artist_list2 = r2.get_mpl_patches_texts()\n",
    "    for p in patch_list1 + patch_list2:\n",
    "        ax.add_patch(p)\n"
   ]
  },
  {
   "cell_type": "code",
   "execution_count": 16,
   "id": "65f0c932-e730-440b-82bc-91db6c69db7f",
   "metadata": {
    "tags": []
   },
   "outputs": [],
   "source": [
    "def fixed_color(shape, saved_attrs):\n",
    "    attr_list, attr_dict = saved_attrs\n",
    "    attr_dict[\"color\"] = \"red\"\n",
    "    kwargs = properties_func_default(shape, (attr_list, attr_dict))\n",
    "\n",
    "    return kwargs"
   ]
  },
  {
   "cell_type": "markdown",
   "id": "e99484ff-8e81-4a8f-bcff-6c39e0c0d490",
   "metadata": {},
   "source": [
    "### Plot LMC & SMC maps"
   ]
  },
  {
   "cell_type": "code",
   "execution_count": null,
   "id": "8624caaf-e4a3-4cc7-ad00-e9a59a21fdcd",
   "metadata": {
    "tags": []
   },
   "outputs": [],
   "source": [
    "plt.figure(figsize=(30, 12))\n",
    "\n",
    "# LMC\n",
    "extent_lmc = [680, 100, 80, 650]\n",
    "wcs_lmc = WCS(hdr_lmc, naxis=0, fix=False)\n",
    "ax1 = plt.subplot(121, projection=wcs_lmc)\n",
    "cb = ax1.imshow(data_sd_lmc, cmap='plasma', vmin=-2.5, vmax=0.6)\n",
    "ax1.set_xlim(extent_lmc[1], extent_lmc[0])\n",
    "ax1.set_ylim(extent_lmc[2], extent_lmc[3])\n",
    "plot_region(regfile_lmc, hdr_lmc, ax1)\n",
    "plt.colorbar(cb, label='$\\Sigma_{dust}$')\n",
    "\n",
    "\n",
    "# SMC\n",
    "extent_smc = [760, 400, 200, 430]\n",
    "wcs_smc = WCS(hdr_smc, naxis=0, fix=False)\n",
    "ax2 = plt.subplot(122, projection=wcs_smc)\n",
    "cb2 = ax2.imshow(data_sd_smc, cmap='viridis', vmin=-2.5, vmax=0.6)\n",
    "ax2.set_xlim(extent_smc[1], extent_smc[0])\n",
    "ax2.set_ylim(extent_smc[2], extent_smc[3])\n",
    "plot_region(regfile_smc, hdr_smc, ax2)\n",
    "plt.colorbar(cb2, )\n",
    "\n",
    "plt.savefig(\"figs/scylla_lmc_smc_\" + data_id + \"_regions_2.png\", bbox_inches='tight')"
   ]
  },
  {
   "cell_type": "code",
   "execution_count": null,
   "id": "7d03ef9c-a5c9-4de9-9297-1e2daa5228bd",
   "metadata": {},
   "outputs": [],
   "source": []
  }
 ],
 "metadata": {
  "kernelspec": {
   "display_name": "Python 3 (ipykernel)",
   "language": "python",
   "name": "python3"
  },
  "language_info": {
   "codemirror_mode": {
    "name": "ipython",
    "version": 3
   },
   "file_extension": ".py",
   "mimetype": "text/x-python",
   "name": "python",
   "nbconvert_exporter": "python",
   "pygments_lexer": "ipython3",
   "version": "3.10.12"
  }
 },
 "nbformat": 4,
 "nbformat_minor": 5
}
