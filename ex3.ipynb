{
 "cells": [
  {
   "cell_type": "code",
   "execution_count": 1,
   "id": "28154834-9d6c-4b12-b9a2-ed908608b4a9",
   "metadata": {},
   "outputs": [],
   "source": [
    "import numpy as np\n",
    "import matplotlib.pyplot as plt\n",
    "from astropy.io import fits\n",
    "from astropy.table import Table\n",
    "from astropy import units as u\n",
    "plt.ion()\n",
    "import os\n",
    "%matplotlib widget"
   ]
  },
  {
   "cell_type": "markdown",
   "id": "fd9a951d-4a78-4f02-aa42-99f1e03c9caf",
   "metadata": {},
   "source": [
    "### Test interactive plot"
   ]
  },
  {
   "cell_type": "code",
   "execution_count": 3,
   "id": "3668346b-1e6d-4071-a89c-e35716e6c712",
   "metadata": {},
   "outputs": [],
   "source": [
    "# plt.plot([1,2,3], [1,2,3])"
   ]
  },
  {
   "cell_type": "markdown",
   "id": "e2f17a12-5f42-4bb0-9ead-3ea277f51759",
   "metadata": {},
   "source": [
    "$$x = sin(y)$$"
   ]
  },
  {
   "cell_type": "markdown",
   "id": "d7764cc3-f8e7-4b91-8497-8721ec10d90b",
   "metadata": {},
   "source": [
    "$$E = m c^2$$"
   ]
  },
  {
   "cell_type": "code",
   "execution_count": 2,
   "id": "fe40151c-6d68-4fe7-a366-d4051294e78c",
   "metadata": {},
   "outputs": [],
   "source": [
    "s = [1,4,5,8]"
   ]
  },
  {
   "cell_type": "code",
   "execution_count": 3,
   "id": "59d25c44-dae5-4ae8-8064-501ac68d3ecb",
   "metadata": {},
   "outputs": [
    {
     "name": "stdout",
     "output_type": "stream",
     "text": [
      "9\n"
     ]
    }
   ],
   "source": [
    "r = 4 + s[2]\n",
    "print(r)"
   ]
  },
  {
   "cell_type": "code",
   "execution_count": 4,
   "id": "2800a908-559d-40d7-90da-baeb39022def",
   "metadata": {},
   "outputs": [
    {
     "name": "stdout",
     "output_type": "stream",
     "text": [
      "Petia Yanchulova\n"
     ]
    }
   ],
   "source": [
    "e = \"Petia\" + \" Yanchulova\"\n",
    "print(e)"
   ]
  },
  {
   "cell_type": "code",
   "execution_count": 5,
   "id": "90b99e16-c3ba-4479-b321-ac8d14fc7d2e",
   "metadata": {},
   "outputs": [],
   "source": [
    "e += \"!\""
   ]
  },
  {
   "cell_type": "code",
   "execution_count": 6,
   "id": "64e35c01-a69f-4094-acd5-a7371003aa70",
   "metadata": {},
   "outputs": [
    {
     "name": "stdout",
     "output_type": "stream",
     "text": [
      "Petia Yanchulova!\n"
     ]
    }
   ],
   "source": [
    "print(e)"
   ]
  },
  {
   "cell_type": "code",
   "execution_count": 8,
   "id": "b41288aa-c7f4-411a-8abe-a60ea5df1369",
   "metadata": {},
   "outputs": [
    {
     "name": "stdout",
     "output_type": "stream",
     "text": [
      "PETIA YANCHULOVA!\n"
     ]
    },
    {
     "data": {
      "text/plain": [
       "'petia yanchulova!'"
      ]
     },
     "execution_count": 8,
     "metadata": {},
     "output_type": "execute_result"
    }
   ],
   "source": [
    "f = e.upper()\n",
    "print(f)\n",
    "l = e.lower()\n",
    "l"
   ]
  },
  {
   "cell_type": "code",
   "execution_count": 15,
   "id": "40463718-635a-44d8-9c57-c026813b0133",
   "metadata": {},
   "outputs": [
    {
     "name": "stdout",
     "output_type": "stream",
     "text": [
      "PETIA\n",
      "YANCHULOVA\n"
     ]
    },
    {
     "data": {
      "text/plain": [
       "'PETIA Todorova YANCHULOVA'"
      ]
     },
     "execution_count": 15,
     "metadata": {},
     "output_type": "execute_result"
    }
   ],
   "source": [
    "n1 = f.split(\" \")[0]\n",
    "n2 = f.split(\" \")[1].split(\"!\")[0]\n",
    "print(n1)\n",
    "print(n2)\n",
    "e\n",
    "n3 = n1 + \" Todorova \" + n2\n",
    "n3"
   ]
  },
  {
   "cell_type": "code",
   "execution_count": 16,
   "id": "7631b0e9-d65c-477e-aad9-01323a9c6660",
   "metadata": {},
   "outputs": [
    {
     "name": "stdout",
     "output_type": "stream",
     "text": [
      "Petia Yanchulova\n"
     ]
    }
   ],
   "source": [
    "whole = e.split('!')[0]\n",
    "print(whole)\n"
   ]
  },
  {
   "cell_type": "code",
   "execution_count": 17,
   "id": "6b74ea19-c623-43d6-8d00-dc085116ce86",
   "metadata": {},
   "outputs": [],
   "source": [
    "l1 = [4, 5.5, \"home\"]"
   ]
  },
  {
   "cell_type": "code",
   "execution_count": 18,
   "id": "cb67739f-221e-47b6-80b7-16e80a3413ec",
   "metadata": {},
   "outputs": [
    {
     "data": {
      "text/plain": [
       "4"
      ]
     },
     "execution_count": 18,
     "metadata": {},
     "output_type": "execute_result"
    }
   ],
   "source": [
    "l1[0]"
   ]
  },
  {
   "cell_type": "code",
   "execution_count": 21,
   "id": "11009aea-dd00-4009-b7d4-447e3a1b4c62",
   "metadata": {},
   "outputs": [
    {
     "data": {
      "text/plain": [
       "'m'"
      ]
     },
     "execution_count": 21,
     "metadata": {},
     "output_type": "execute_result"
    }
   ],
   "source": [
    "l1[2][2]"
   ]
  },
  {
   "cell_type": "code",
   "execution_count": 22,
   "id": "27df1f80-1b8c-4fec-a27b-5e934fa22b9b",
   "metadata": {},
   "outputs": [
    {
     "name": "stdout",
     "output_type": "stream",
     "text": [
      "[4, 16, 'home']\n"
     ]
    }
   ],
   "source": [
    "l1[1] = 16\n",
    "print(l1)"
   ]
  },
  {
   "cell_type": "code",
   "execution_count": 24,
   "id": "d661737c-0d17-4836-88f4-265109c580c7",
   "metadata": {},
   "outputs": [
    {
     "name": "stdout",
     "output_type": "stream",
     "text": [
      "[4, 16, 'home', 'school', 'school']\n"
     ]
    }
   ],
   "source": [
    "l1.append(\"school\")\n",
    "print(l1)"
   ]
  },
  {
   "cell_type": "code",
   "execution_count": 25,
   "id": "dbf9ebc2-8012-4248-9ac1-9c41854d447a",
   "metadata": {},
   "outputs": [
    {
     "name": "stdout",
     "output_type": "stream",
     "text": [
      "[4, 16, 40.5, 'home', 'school', 'school']\n"
     ]
    }
   ],
   "source": [
    "l1.insert(2, 40.5)\n",
    "print(l1)"
   ]
  },
  {
   "cell_type": "code",
   "execution_count": 28,
   "id": "e6668d49-760c-4994-a35a-df53676a6c9a",
   "metadata": {},
   "outputs": [
    {
     "name": "stdout",
     "output_type": "stream",
     "text": [
      "[4, 16, 40.5, 'home']\n",
      "[4, 16, 40.5, 'home']\n",
      "[16, 40.5, 'home']\n"
     ]
    }
   ],
   "source": [
    "#l1.pop(-1)\n",
    "print(l1)\n",
    "#l1.remove(\"school\")\n",
    "print(l1)\n",
    "l1.pop(0)\n",
    "print(l1)"
   ]
  },
  {
   "cell_type": "code",
   "execution_count": 29,
   "id": "775f0b7d-78a9-4faf-8475-89580f321b97",
   "metadata": {},
   "outputs": [
    {
     "data": {
      "text/plain": [
       "3"
      ]
     },
     "execution_count": 29,
     "metadata": {},
     "output_type": "execute_result"
    }
   ],
   "source": [
    "len(l1)"
   ]
  },
  {
   "cell_type": "code",
   "execution_count": 30,
   "id": "ee3fc8f2-39f2-4bd3-bf21-63195678dace",
   "metadata": {},
   "outputs": [
    {
     "data": {
      "text/plain": [
       "'home'"
      ]
     },
     "execution_count": 30,
     "metadata": {},
     "output_type": "execute_result"
    }
   ],
   "source": [
    "l1[-1]"
   ]
  },
  {
   "cell_type": "code",
   "execution_count": 31,
   "id": "439d914b-fd7b-4bef-a505-3e53f69daa97",
   "metadata": {},
   "outputs": [
    {
     "data": {
      "text/plain": [
       "40.5"
      ]
     },
     "execution_count": 31,
     "metadata": {},
     "output_type": "execute_result"
    }
   ],
   "source": [
    "l1[-2]"
   ]
  },
  {
   "cell_type": "code",
   "execution_count": 32,
   "id": "e6f2f818-4617-4d74-aa62-b5c3914f7ffb",
   "metadata": {},
   "outputs": [],
   "source": [
    "l1.append(\"hello\")"
   ]
  },
  {
   "cell_type": "code",
   "execution_count": 33,
   "id": "8069b348-5a9f-4d01-8d87-ee6abbeaed81",
   "metadata": {},
   "outputs": [],
   "source": [
    "l1.append(3)"
   ]
  },
  {
   "cell_type": "code",
   "execution_count": 34,
   "id": "3a994d5b-4894-485e-ae21-7886886134c2",
   "metadata": {},
   "outputs": [
    {
     "name": "stdout",
     "output_type": "stream",
     "text": [
      "[16, 40.5, 'home', 'hello', 3]\n"
     ]
    }
   ],
   "source": [
    "print(l1)"
   ]
  },
  {
   "cell_type": "code",
   "execution_count": 35,
   "id": "5d82fcac-dc68-48b0-a506-dd3fc144b5ef",
   "metadata": {},
   "outputs": [
    {
     "name": "stdout",
     "output_type": "stream",
     "text": [
      "<class 'int'>\n",
      "<class 'float'>\n",
      "<class 'float'>\n",
      "10\n"
     ]
    }
   ],
   "source": [
    "g = 3.4\n",
    "k = int(g)\n",
    "print(type(k))\n",
    "print(type(g))\n",
    "print(type(l1[1]))\n",
    "w = int(round(float('5.9'))) + int(float('4.3'))\n",
    "print(w)"
   ]
  },
  {
   "cell_type": "code",
   "execution_count": 38,
   "id": "8e843e78-0d1d-4930-a7fe-1dcca321b03e",
   "metadata": {},
   "outputs": [
    {
     "name": "stdout",
     "output_type": "stream",
     "text": [
      "The result is 10 my name is PETIA Todorova YANCHULOVA\n"
     ]
    }
   ],
   "source": [
    "print(\"The result is\", w , \"my name is\", n3)"
   ]
  },
  {
   "cell_type": "code",
   "execution_count": 40,
   "id": "c0edab10-a8e9-4029-a894-88c3215fe433",
   "metadata": {},
   "outputs": [
    {
     "name": "stdout",
     "output_type": "stream",
     "text": [
      "The result is 10\n"
     ]
    }
   ],
   "source": [
    "print(\"The result is \" + str(w))"
   ]
  },
  {
   "cell_type": "code",
   "execution_count": 42,
   "id": "571ec007-c51c-4165-b578-c8b5184b90c4",
   "metadata": {},
   "outputs": [
    {
     "name": "stdout",
     "output_type": "stream",
     "text": [
      "petia todorova yanchulova\n"
     ]
    }
   ],
   "source": [
    "print(n3.lower())"
   ]
  },
  {
   "cell_type": "code",
   "execution_count": 43,
   "id": "e059eecf-b80d-4f8c-b323-5d28e85a205d",
   "metadata": {},
   "outputs": [
    {
     "data": {
      "text/plain": [
       "3"
      ]
     },
     "execution_count": 43,
     "metadata": {},
     "output_type": "execute_result"
    }
   ],
   "source": [
    "pi=int(float('3.14'))\n",
    "pi"
   ]
  },
  {
   "cell_type": "code",
   "execution_count": null,
   "id": "b4fadbb4-4d46-4047-bb42-881fdd8221ed",
   "metadata": {},
   "outputs": [],
   "source": []
  }
 ],
 "metadata": {
  "kernelspec": {
   "display_name": "Python 3 (ipykernel)",
   "language": "python",
   "name": "python3"
  },
  "language_info": {
   "codemirror_mode": {
    "name": "ipython",
    "version": 3
   },
   "file_extension": ".py",
   "mimetype": "text/x-python",
   "name": "python",
   "nbconvert_exporter": "python",
   "pygments_lexer": "ipython3",
   "version": "3.10.12"
  }
 },
 "nbformat": 4,
 "nbformat_minor": 5
}
