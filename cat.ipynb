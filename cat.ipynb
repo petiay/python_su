{
 "cells": [
  {
   "cell_type": "markdown",
   "id": "254bfdd3-a995-49a7-a681-66b294ccfe7d",
   "metadata": {},
   "source": [
    "# Schrödinger's cat\n",
    "\n",
    "In [quantum mechanics](https://en.wikipedia.org/wiki/Quantum_mechanics), Schrödinger's cat is a thought experiment concerning quantum superposition. In the thought experiment, a hypothetical cat in a closed box may be considered to be simultaneously both alive and dead while it is unobserved, as a result of its fate being linked to a random subatomic event that may or may not occur. This experiment, viewed this way, is described as a paradox. This thought experiment was devised by physicist Erwin Schrödinger in 1935 in a discussion with Albert Einstein to illustrate what Schrödinger saw as the problems of the Copenhagen interpretation of quantum mechanics. "
   ]
  },
  {
   "cell_type": "code",
   "execution_count": 1,
   "id": "242863c3-7283-4cd4-8fc2-3c87ab1d4f8f",
   "metadata": {},
   "outputs": [
    {
     "name": "stdout",
     "output_type": "stream",
     "text": [
      "CAT\n"
     ]
    }
   ],
   "source": [
    "print('CAT')"
   ]
  },
  {
   "cell_type": "markdown",
   "id": "967aa962-0db6-48e4-b5fd-6ef5471939ad",
   "metadata": {},
   "source": [
    "![Cat](cat.png)"
   ]
  },
  {
   "cell_type": "markdown",
   "id": "36c7fe36-65fa-4f5d-9f6f-03cceec088bf",
   "metadata": {},
   "source": [
    "> Schrödinger's cat: a cat, a flask of poison, and a radioactive source connected to a Geiger counter are placed in a sealed box. As illustrated, the quantum description uses a superposition of an alive cat and one that has died."
   ]
  },
  {
   "cell_type": "markdown",
   "id": "75944063-4232-4635-aa6a-9b0b90b96afc",
   "metadata": {},
   "source": [
    "* [Markdown tutorial](https://www.markdowntutorial.com)\n",

  }
 ],
 "metadata": {
  "kernelspec": {
   "display_name": "Python 3 (ipykernel)",
   "language": "python",
   "name": "python3"
  },
  "language_info": {
   "codemirror_mode": {
    "name": "ipython",
    "version": 3
   },
   "file_extension": ".py",
   "mimetype": "text/x-python",
   "name": "python",
   "nbconvert_exporter": "python",
   "pygments_lexer": "ipython3",
   "version": "3.10.12"
  }
 },
 "nbformat": 4,
 "nbformat_minor": 5
}
